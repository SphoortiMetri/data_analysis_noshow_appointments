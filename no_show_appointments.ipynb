{
 "cells": [
  {
   "cell_type": "markdown",
   "metadata": {},
   "source": [
    "# No show appointments \n",
    "\n",
    "What factors to missing something as important as a doctor's appointment? \n",
    "\n",
    "## Table of Contents\n",
    "<ul>\n",
    "<li><a href=\"#intro\">Introduction</a></li>\n",
    "<li><a href=\"#wrangling\">Data Wrangling</a></li>\n",
    "<li><a href=\"#eda\">Exploratory Data Analysis</a></li>\n",
    "<li><a href=\"#conclusions\">Conclusions</a></li>\n",
    "</ul>"
   ]
  },
  {
   "cell_type": "markdown",
   "metadata": {},
   "source": [
    "This dataset contains information about appointments in brazil and is focused on whether or not patients show up for their appointment. My aim here is to explore this data and analyze the factors that contribute to patient showing up(or not showing up) for scheduled appointments.\n",
    "\n"
   ]
  },
  {
   "cell_type": "markdown",
   "metadata": {},
   "source": [
    "<a id='intro'></a>\n",
    "## Introduction"
   ]
  },
  {
   "cell_type": "code",
   "execution_count": 130,
   "metadata": {},
   "outputs": [],
   "source": [
    "# Importing modules \n",
    "\n",
    "import pandas as pd\n",
    "import matplotlib.pyplot as plt \n",
    "import numpy as np \n",
    "from pandas.plotting import scatter_matrix\n",
    "\n",
    "%matplotlib inline"
   ]
  },
  {
   "cell_type": "markdown",
   "metadata": {},
   "source": [
    "#### Feature description (As learnt from Kaggle)\n",
    "\n",
    "1. PatientId - Identification of a patient \n",
    "2. AppointmentID - Identification of each appointment \n",
    "3. Gender - Male or Female . Female is the greater proportion, woman takes way more care of they health in comparison to man. 4. ScheduledDay - The day of the actuall appointment, when they have to visit the doctor\n",
    "5. AppointmentDay - The day someone called or registered the appointment, this is before appointment of course\n",
    "6. Age - How old is the patient\n",
    "7. Neighbourhood - Location of the hospital\n",
    "8. Scholarship - 1/0 (Yes/No)\n",
    "9. Hipertension(Need to replace with Hypertension) : 1/0 (Yes/No)\n",
    "10. Diabetes - 1/0 (Yes/No)\n",
    "11. Alcoholism - 1/0 (Yes/No) \n",
    "12. Handcap(Will change this to Handicap) - 0 for No/ 1 or more for Yes \n",
    "13. SMS_received - 1 or more messages sent to the patient\n",
    "14. No-show = Yes or No (Yes for not showing up and No for showing up) "
   ]
  },
  {
   "cell_type": "markdown",
   "metadata": {},
   "source": [
    "#### Questions \n",
    "\n",
    "1. Are specific age groups more consistent in attending their appointments and Which age group among females has the least no_show rate?\n",
    "2. Are patients who are notified via SMS less likely to miss their appointments? Is there a correlation between days_before_appointment and sms_received? And what is their correlation with no_show?\n",
    "3. Are patients with same day appointments  more likely to attend it. Which age_group has the most number of same_day_appointments? Which age_group has the highest no_show rate among them? "
   ]
  },
  {
   "cell_type": "markdown",
   "metadata": {},
   "source": [
    "<a id='wrangling'></a>\n",
    "## Data Wrangling\n",
    "\n",
    "\n",
    "### General Properties\n",
    "\n"
   ]
  },
  {
   "cell_type": "code",
   "execution_count": 72,
   "metadata": {},
   "outputs": [
    {
     "data": {
      "text/html": [
       "<div>\n",
       "<style scoped>\n",
       "    .dataframe tbody tr th:only-of-type {\n",
       "        vertical-align: middle;\n",
       "    }\n",
       "\n",
       "    .dataframe tbody tr th {\n",
       "        vertical-align: top;\n",
       "    }\n",
       "\n",
       "    .dataframe thead th {\n",
       "        text-align: right;\n",
       "    }\n",
       "</style>\n",
       "<table border=\"1\" class=\"dataframe\">\n",
       "  <thead>\n",
       "    <tr style=\"text-align: right;\">\n",
       "      <th></th>\n",
       "      <th>PatientId</th>\n",
       "      <th>AppointmentID</th>\n",
       "      <th>Gender</th>\n",
       "      <th>ScheduledDay</th>\n",
       "      <th>AppointmentDay</th>\n",
       "      <th>Age</th>\n",
       "      <th>Neighbourhood</th>\n",
       "      <th>Scholarship</th>\n",
       "      <th>Hipertension</th>\n",
       "      <th>Diabetes</th>\n",
       "      <th>Alcoholism</th>\n",
       "      <th>Handcap</th>\n",
       "      <th>SMS_received</th>\n",
       "      <th>No-show</th>\n",
       "    </tr>\n",
       "  </thead>\n",
       "  <tbody>\n",
       "    <tr>\n",
       "      <th>0</th>\n",
       "      <td>2.987250e+13</td>\n",
       "      <td>5642903</td>\n",
       "      <td>F</td>\n",
       "      <td>2016-04-29T18:38:08Z</td>\n",
       "      <td>2016-04-29T00:00:00Z</td>\n",
       "      <td>62</td>\n",
       "      <td>JARDIM DA PENHA</td>\n",
       "      <td>0</td>\n",
       "      <td>1</td>\n",
       "      <td>0</td>\n",
       "      <td>0</td>\n",
       "      <td>0</td>\n",
       "      <td>0</td>\n",
       "      <td>No</td>\n",
       "    </tr>\n",
       "    <tr>\n",
       "      <th>1</th>\n",
       "      <td>5.589978e+14</td>\n",
       "      <td>5642503</td>\n",
       "      <td>M</td>\n",
       "      <td>2016-04-29T16:08:27Z</td>\n",
       "      <td>2016-04-29T00:00:00Z</td>\n",
       "      <td>56</td>\n",
       "      <td>JARDIM DA PENHA</td>\n",
       "      <td>0</td>\n",
       "      <td>0</td>\n",
       "      <td>0</td>\n",
       "      <td>0</td>\n",
       "      <td>0</td>\n",
       "      <td>0</td>\n",
       "      <td>No</td>\n",
       "    </tr>\n",
       "    <tr>\n",
       "      <th>2</th>\n",
       "      <td>4.262962e+12</td>\n",
       "      <td>5642549</td>\n",
       "      <td>F</td>\n",
       "      <td>2016-04-29T16:19:04Z</td>\n",
       "      <td>2016-04-29T00:00:00Z</td>\n",
       "      <td>62</td>\n",
       "      <td>MATA DA PRAIA</td>\n",
       "      <td>0</td>\n",
       "      <td>0</td>\n",
       "      <td>0</td>\n",
       "      <td>0</td>\n",
       "      <td>0</td>\n",
       "      <td>0</td>\n",
       "      <td>No</td>\n",
       "    </tr>\n",
       "  </tbody>\n",
       "</table>\n",
       "</div>"
      ],
      "text/plain": [
       "      PatientId  AppointmentID Gender          ScheduledDay  \\\n",
       "0  2.987250e+13        5642903      F  2016-04-29T18:38:08Z   \n",
       "1  5.589978e+14        5642503      M  2016-04-29T16:08:27Z   \n",
       "2  4.262962e+12        5642549      F  2016-04-29T16:19:04Z   \n",
       "\n",
       "         AppointmentDay  Age    Neighbourhood  Scholarship  Hipertension  \\\n",
       "0  2016-04-29T00:00:00Z   62  JARDIM DA PENHA            0             1   \n",
       "1  2016-04-29T00:00:00Z   56  JARDIM DA PENHA            0             0   \n",
       "2  2016-04-29T00:00:00Z   62    MATA DA PRAIA            0             0   \n",
       "\n",
       "   Diabetes  Alcoholism  Handcap  SMS_received No-show  \n",
       "0         0           0        0             0      No  \n",
       "1         0           0        0             0      No  \n",
       "2         0           0        0             0      No  "
      ]
     },
     "execution_count": 72,
     "metadata": {},
     "output_type": "execute_result"
    }
   ],
   "source": [
    "#This section is for loading and initial exploration of data \n",
    "\n",
    "df = pd.read_csv('noshowappointments-kagglev2-may-2016.csv')\n",
    "\n",
    "#Top 3 rows of the dataset \n",
    "df.head(3)"
   ]
  },
  {
   "cell_type": "code",
   "execution_count": 73,
   "metadata": {},
   "outputs": [
    {
     "data": {
      "text/plain": [
       "(110527, 14)"
      ]
     },
     "execution_count": 73,
     "metadata": {},
     "output_type": "execute_result"
    }
   ],
   "source": [
    "#Dimension of the dataset \n",
    "df.shape"
   ]
  },
  {
   "cell_type": "code",
   "execution_count": 74,
   "metadata": {},
   "outputs": [
    {
     "data": {
      "text/plain": [
       "PatientId         0\n",
       "AppointmentID     0\n",
       "Gender            0\n",
       "ScheduledDay      0\n",
       "AppointmentDay    0\n",
       "Age               0\n",
       "Neighbourhood     0\n",
       "Scholarship       0\n",
       "Hipertension      0\n",
       "Diabetes          0\n",
       "Alcoholism        0\n",
       "Handcap           0\n",
       "SMS_received      0\n",
       "No-show           0\n",
       "dtype: int64"
      ]
     },
     "execution_count": 74,
     "metadata": {},
     "output_type": "execute_result"
    }
   ],
   "source": [
    "#Checking for null values \n",
    "df.isnull().sum()"
   ]
  },
  {
   "cell_type": "markdown",
   "metadata": {},
   "source": [
    "#### Observations :\n",
    "\n",
    "1. This dataset has 110527 entries(rows) and 14 features(columns) \n",
    "2. The naming convention is not consistent \n",
    "3. No null values in the dataset \n",
    "4. There are a few spelling mistakes in column names - Hipertension, Handcap \n",
    "\n",
    "### To keep the naming convention consistent, I am renaming the columns in this section \n"
   ]
  },
  {
   "cell_type": "code",
   "execution_count": 75,
   "metadata": {},
   "outputs": [
    {
     "data": {
      "text/plain": [
       "Index(['patient_id', 'appointment_id', 'gender', 'scheduled_day',\n",
       "       'appointment_day', 'age', 'neighbourhood', 'scholarship',\n",
       "       'hypertension', 'diabetes', 'alcoholism', 'handicap', 'sms_received',\n",
       "       'no_show'],\n",
       "      dtype='object')"
      ]
     },
     "execution_count": 75,
     "metadata": {},
     "output_type": "execute_result"
    }
   ],
   "source": [
    "columns_new = ['patient_id', 'appointment_id', 'gender', 'scheduled_day','appointment_day', 'age', 'neighbourhood', 'scholarship', 'hypertension', 'diabetes','alcoholism', 'handicap','sms_received','no_show']\n",
    "df.columns = columns_new\n",
    "#verify \n",
    "\n",
    "df.columns"
   ]
  },
  {
   "cell_type": "markdown",
   "metadata": {},
   "source": [
    "### Lets check for duplicate rows"
   ]
  },
  {
   "cell_type": "code",
   "execution_count": 76,
   "metadata": {},
   "outputs": [
    {
     "data": {
      "text/plain": [
       "0"
      ]
     },
     "execution_count": 76,
     "metadata": {},
     "output_type": "execute_result"
    }
   ],
   "source": [
    "sum(df.duplicated())"
   ]
  },
  {
   "cell_type": "markdown",
   "metadata": {},
   "source": [
    "#### Observation: \n",
    "\n",
    "No duplicate rows"
   ]
  },
  {
   "cell_type": "code",
   "execution_count": 77,
   "metadata": {},
   "outputs": [
    {
     "data": {
      "text/html": [
       "<div>\n",
       "<style scoped>\n",
       "    .dataframe tbody tr th:only-of-type {\n",
       "        vertical-align: middle;\n",
       "    }\n",
       "\n",
       "    .dataframe tbody tr th {\n",
       "        vertical-align: top;\n",
       "    }\n",
       "\n",
       "    .dataframe thead th {\n",
       "        text-align: right;\n",
       "    }\n",
       "</style>\n",
       "<table border=\"1\" class=\"dataframe\">\n",
       "  <thead>\n",
       "    <tr style=\"text-align: right;\">\n",
       "      <th></th>\n",
       "      <th>patient_id</th>\n",
       "      <th>appointment_id</th>\n",
       "      <th>age</th>\n",
       "      <th>scholarship</th>\n",
       "      <th>hypertension</th>\n",
       "      <th>diabetes</th>\n",
       "      <th>alcoholism</th>\n",
       "      <th>handicap</th>\n",
       "      <th>sms_received</th>\n",
       "    </tr>\n",
       "  </thead>\n",
       "  <tbody>\n",
       "    <tr>\n",
       "      <th>count</th>\n",
       "      <td>1.105270e+05</td>\n",
       "      <td>1.105270e+05</td>\n",
       "      <td>110527.000000</td>\n",
       "      <td>110527.000000</td>\n",
       "      <td>110527.000000</td>\n",
       "      <td>110527.000000</td>\n",
       "      <td>110527.000000</td>\n",
       "      <td>110527.000000</td>\n",
       "      <td>110527.000000</td>\n",
       "    </tr>\n",
       "    <tr>\n",
       "      <th>mean</th>\n",
       "      <td>1.474963e+14</td>\n",
       "      <td>5.675305e+06</td>\n",
       "      <td>37.088874</td>\n",
       "      <td>0.098266</td>\n",
       "      <td>0.197246</td>\n",
       "      <td>0.071865</td>\n",
       "      <td>0.030400</td>\n",
       "      <td>0.022248</td>\n",
       "      <td>0.321026</td>\n",
       "    </tr>\n",
       "    <tr>\n",
       "      <th>std</th>\n",
       "      <td>2.560949e+14</td>\n",
       "      <td>7.129575e+04</td>\n",
       "      <td>23.110205</td>\n",
       "      <td>0.297675</td>\n",
       "      <td>0.397921</td>\n",
       "      <td>0.258265</td>\n",
       "      <td>0.171686</td>\n",
       "      <td>0.161543</td>\n",
       "      <td>0.466873</td>\n",
       "    </tr>\n",
       "    <tr>\n",
       "      <th>min</th>\n",
       "      <td>3.921784e+04</td>\n",
       "      <td>5.030230e+06</td>\n",
       "      <td>-1.000000</td>\n",
       "      <td>0.000000</td>\n",
       "      <td>0.000000</td>\n",
       "      <td>0.000000</td>\n",
       "      <td>0.000000</td>\n",
       "      <td>0.000000</td>\n",
       "      <td>0.000000</td>\n",
       "    </tr>\n",
       "    <tr>\n",
       "      <th>25%</th>\n",
       "      <td>4.172614e+12</td>\n",
       "      <td>5.640286e+06</td>\n",
       "      <td>18.000000</td>\n",
       "      <td>0.000000</td>\n",
       "      <td>0.000000</td>\n",
       "      <td>0.000000</td>\n",
       "      <td>0.000000</td>\n",
       "      <td>0.000000</td>\n",
       "      <td>0.000000</td>\n",
       "    </tr>\n",
       "    <tr>\n",
       "      <th>50%</th>\n",
       "      <td>3.173184e+13</td>\n",
       "      <td>5.680573e+06</td>\n",
       "      <td>37.000000</td>\n",
       "      <td>0.000000</td>\n",
       "      <td>0.000000</td>\n",
       "      <td>0.000000</td>\n",
       "      <td>0.000000</td>\n",
       "      <td>0.000000</td>\n",
       "      <td>0.000000</td>\n",
       "    </tr>\n",
       "    <tr>\n",
       "      <th>75%</th>\n",
       "      <td>9.439172e+13</td>\n",
       "      <td>5.725524e+06</td>\n",
       "      <td>55.000000</td>\n",
       "      <td>0.000000</td>\n",
       "      <td>0.000000</td>\n",
       "      <td>0.000000</td>\n",
       "      <td>0.000000</td>\n",
       "      <td>0.000000</td>\n",
       "      <td>1.000000</td>\n",
       "    </tr>\n",
       "    <tr>\n",
       "      <th>max</th>\n",
       "      <td>9.999816e+14</td>\n",
       "      <td>5.790484e+06</td>\n",
       "      <td>115.000000</td>\n",
       "      <td>1.000000</td>\n",
       "      <td>1.000000</td>\n",
       "      <td>1.000000</td>\n",
       "      <td>1.000000</td>\n",
       "      <td>4.000000</td>\n",
       "      <td>1.000000</td>\n",
       "    </tr>\n",
       "  </tbody>\n",
       "</table>\n",
       "</div>"
      ],
      "text/plain": [
       "         patient_id  appointment_id            age    scholarship  \\\n",
       "count  1.105270e+05    1.105270e+05  110527.000000  110527.000000   \n",
       "mean   1.474963e+14    5.675305e+06      37.088874       0.098266   \n",
       "std    2.560949e+14    7.129575e+04      23.110205       0.297675   \n",
       "min    3.921784e+04    5.030230e+06      -1.000000       0.000000   \n",
       "25%    4.172614e+12    5.640286e+06      18.000000       0.000000   \n",
       "50%    3.173184e+13    5.680573e+06      37.000000       0.000000   \n",
       "75%    9.439172e+13    5.725524e+06      55.000000       0.000000   \n",
       "max    9.999816e+14    5.790484e+06     115.000000       1.000000   \n",
       "\n",
       "        hypertension       diabetes     alcoholism       handicap  \\\n",
       "count  110527.000000  110527.000000  110527.000000  110527.000000   \n",
       "mean        0.197246       0.071865       0.030400       0.022248   \n",
       "std         0.397921       0.258265       0.171686       0.161543   \n",
       "min         0.000000       0.000000       0.000000       0.000000   \n",
       "25%         0.000000       0.000000       0.000000       0.000000   \n",
       "50%         0.000000       0.000000       0.000000       0.000000   \n",
       "75%         0.000000       0.000000       0.000000       0.000000   \n",
       "max         1.000000       1.000000       1.000000       4.000000   \n",
       "\n",
       "        sms_received  \n",
       "count  110527.000000  \n",
       "mean        0.321026  \n",
       "std         0.466873  \n",
       "min         0.000000  \n",
       "25%         0.000000  \n",
       "50%         0.000000  \n",
       "75%         1.000000  \n",
       "max         1.000000  "
      ]
     },
     "execution_count": 77,
     "metadata": {},
     "output_type": "execute_result"
    }
   ],
   "source": [
    "df.describe()"
   ]
  },
  {
   "cell_type": "markdown",
   "metadata": {},
   "source": [
    "#### Analyzing features. This will help me understand the charateristics of each feature better \n"
   ]
  },
  {
   "cell_type": "code",
   "execution_count": 78,
   "metadata": {},
   "outputs": [
    {
     "data": {
      "image/png": "[encoded data removed]",
      "text/plain": [
       "<matplotlib.figure.Figure at 0x7fb8a9341198>"
      ]
     },
     "metadata": {
      "needs_background": "light"
     },
     "output_type": "display_data"
    }
   ],
   "source": [
    "#Histogram of the dataset \n",
    "\n",
    "df.hist(figsize= (10,10));"
   ]
  },
  {
   "cell_type": "markdown",
   "metadata": {},
   "source": [
    "### patient_id\n",
    "\n",
    "A few values in the patient_id column are of float type. Since these ids are only for unique identification of patients and will not affect the analysis. I will convert them to int type. In other words, a patient showing up or not showing up might not be related to what id he was assigned. \n"
   ]
  },
  {
   "cell_type": "code",
   "execution_count": 79,
   "metadata": {},
   "outputs": [
    {
     "name": "stdout",
     "output_type": "stream",
     "text": [
      "Unique patient_ids 62299\n",
      "\n",
      "\n"
     ]
    }
   ],
   "source": [
    "#Converting to int\n",
    "df.patient_id = df.patient_id.astype(int)\n",
    "\n",
    "print(\"Unique patient_ids \" + str(len(df['patient_id'].unique())))\n",
    "\n",
    "print(\"\\n\")\n"
   ]
  },
  {
   "cell_type": "markdown",
   "metadata": {},
   "source": [
    "Observation: Looks like there are a few regular patients in this dataset  \n",
    "\n",
    "### appointment_id \n"
   ]
  },
  {
   "cell_type": "code",
   "execution_count": 80,
   "metadata": {},
   "outputs": [
    {
     "name": "stdout",
     "output_type": "stream",
     "text": [
      "110527\n"
     ]
    }
   ],
   "source": [
    "print(len(df['appointment_id'].unique()))"
   ]
  },
  {
   "cell_type": "markdown",
   "metadata": {},
   "source": [
    "Observation: Each appointment in the dataset value is given a unique apoointment_id \n",
    "\n",
    "###  gender \n"
   ]
  },
  {
   "cell_type": "code",
   "execution_count": 81,
   "metadata": {},
   "outputs": [
    {
     "name": "stdout",
     "output_type": "stream",
     "text": [
      "F    71840\n",
      "M    38687\n",
      "Name: gender, dtype: int64\n"
     ]
    }
   ],
   "source": [
    "print(df.gender.value_counts())"
   ]
  },
  {
   "cell_type": "markdown",
   "metadata": {},
   "source": [
    "Observation: There are a lot more female patients (in this dataset )in comparison to male patients \n",
    "\n",
    "### scheduled_day "
   ]
  },
  {
   "cell_type": "code",
   "execution_count": 82,
   "metadata": {},
   "outputs": [
    {
     "name": "stdout",
     "output_type": "stream",
     "text": [
      "count                  110527\n",
      "unique                 103549\n",
      "top       2016-05-06 07:09:54\n",
      "freq                       24\n",
      "first     2015-11-10 07:13:56\n",
      "last      2016-06-08 20:07:23\n",
      "Name: scheduled_day, dtype: object\n",
      "\n",
      "\n",
      "\n",
      "\n",
      "Earliest date : 2015-11-10 07:13:56\n",
      "Last date : 2016-06-08 20:07:23\n",
      "Time span over which we have scheduled_day data: 211 days 12:53:27\n"
     ]
    }
   ],
   "source": [
    "df['scheduled_day'] = pd.to_datetime(df['scheduled_day'])\n",
    "\n",
    "print(df.scheduled_day.describe())\n",
    "\n",
    "print(\"\\n\")\n",
    "\n",
    "print(\"\\n\")\n",
    " \n",
    "print(\"Earliest date : \" + str(df.scheduled_day.min()))\n",
    "\n",
    "print(\"Last date : \" + str(df.scheduled_day.max()))\n",
    "\n",
    "total_days = df.scheduled_day.max() - df.scheduled_day.min()\n",
    "print(\"Time span over which we have scheduled_day data: \" + str(total_days))"
   ]
  },
  {
   "cell_type": "markdown",
   "metadata": {},
   "source": [
    "Observation: This dataset contains appointments made over the time period of 211 days \n",
    "\n",
    "### appointment_day"
   ]
  },
  {
   "cell_type": "code",
   "execution_count": 83,
   "metadata": {},
   "outputs": [
    {
     "name": "stdout",
     "output_type": "stream",
     "text": [
      "Earliest date in the dataset: 2016-04-29 00:00:00\n",
      "Last date in the dataset: 2016-06-08 00:00:00\n",
      "Time span over which we have appointment_day data: 40 days 00:00:00\n"
     ]
    }
   ],
   "source": [
    "df['appointment_day'] = pd.to_datetime(df['appointment_day'])\n",
    "\n",
    "\n",
    "df.appointment_day.describe()\n",
    "print(\"Earliest date in the dataset: \" + str(df.appointment_day.min()))\n",
    "\n",
    "print(\"Last date in the dataset: \" + str(df.appointment_day.max()))\n",
    "\n",
    "total_days = df.appointment_day.max() - df.appointment_day.min()\n",
    "print(\"Time span over which we have appointment_day data: \" + str(total_days))\n"
   ]
  },
  {
   "cell_type": "markdown",
   "metadata": {},
   "source": [
    "Observation: The time span of appointment day is 40 days\n",
    "\n",
    "### age"
   ]
  },
  {
   "cell_type": "code",
   "execution_count": 84,
   "metadata": {
    "scrolled": true
   },
   "outputs": [
    {
     "name": "stdout",
     "output_type": "stream",
     "text": [
      "count    110527.000000\n",
      "mean         37.088874\n",
      "std          23.110205\n",
      "min          -1.000000\n",
      "25%          18.000000\n",
      "50%          37.000000\n",
      "75%          55.000000\n",
      "max         115.000000\n",
      "Name: age, dtype: float64\n",
      "\n",
      "\n"
     ]
    }
   ],
   "source": [
    "print(df.age.describe())\n",
    "print(\"\\n\")\n",
    "\n"
   ]
  },
  {
   "cell_type": "code",
   "execution_count": 85,
   "metadata": {},
   "outputs": [
    {
     "name": "stdout",
     "output_type": "stream",
     "text": [
      "99832    465943158731293\n",
      "Name: patient_id, dtype: int64\n"
     ]
    },
    {
     "data": {
      "text/html": [
       "<div>\n",
       "<style scoped>\n",
       "    .dataframe tbody tr th:only-of-type {\n",
       "        vertical-align: middle;\n",
       "    }\n",
       "\n",
       "    .dataframe tbody tr th {\n",
       "        vertical-align: top;\n",
       "    }\n",
       "\n",
       "    .dataframe thead th {\n",
       "        text-align: right;\n",
       "    }\n",
       "</style>\n",
       "<table border=\"1\" class=\"dataframe\">\n",
       "  <thead>\n",
       "    <tr style=\"text-align: right;\">\n",
       "      <th></th>\n",
       "      <th>patient_id</th>\n",
       "      <th>appointment_id</th>\n",
       "      <th>gender</th>\n",
       "      <th>scheduled_day</th>\n",
       "      <th>appointment_day</th>\n",
       "      <th>age</th>\n",
       "      <th>neighbourhood</th>\n",
       "      <th>scholarship</th>\n",
       "      <th>hypertension</th>\n",
       "      <th>diabetes</th>\n",
       "      <th>alcoholism</th>\n",
       "      <th>handicap</th>\n",
       "      <th>sms_received</th>\n",
       "      <th>no_show</th>\n",
       "    </tr>\n",
       "  </thead>\n",
       "  <tbody>\n",
       "    <tr>\n",
       "      <th>99832</th>\n",
       "      <td>465943158731293</td>\n",
       "      <td>5775010</td>\n",
       "      <td>F</td>\n",
       "      <td>2016-06-06 08:58:13</td>\n",
       "      <td>2016-06-06</td>\n",
       "      <td>-1</td>\n",
       "      <td>ROMÃO</td>\n",
       "      <td>0</td>\n",
       "      <td>0</td>\n",
       "      <td>0</td>\n",
       "      <td>0</td>\n",
       "      <td>0</td>\n",
       "      <td>0</td>\n",
       "      <td>No</td>\n",
       "    </tr>\n",
       "  </tbody>\n",
       "</table>\n",
       "</div>"
      ],
      "text/plain": [
       "            patient_id  appointment_id gender       scheduled_day  \\\n",
       "99832  465943158731293         5775010      F 2016-06-06 08:58:13   \n",
       "\n",
       "      appointment_day  age neighbourhood  scholarship  hypertension  diabetes  \\\n",
       "99832      2016-06-06   -1         ROMÃO            0             0         0   \n",
       "\n",
       "       alcoholism  handicap  sms_received no_show  \n",
       "99832           0         0             0      No  "
      ]
     },
     "execution_count": 85,
     "metadata": {},
     "output_type": "execute_result"
    }
   ],
   "source": [
    "print(df.query('age == -1')['patient_id'])\n",
    "\n",
    "\n",
    "#Check if there anre any other entris corresponding to that particular patient_id \n",
    "df.query('patient_id == 465943158731293')\n"
   ]
  },
  {
   "cell_type": "markdown",
   "metadata": {},
   "source": [
    "Observation:  There is only one entry with age as -1. Could this be an appointment for an unborn baby? Or this might just be a typo. I checked if this particular patient has any other entry in our dataset (using df.query). Since we do not have any other information about this patient, we cannot come to any conclusion of whether it was taken for an unborn baby or not. I will leave this entry as it is, since I could not find more information about it\n",
    "\n",
    "###  neighborhood"
   ]
  },
  {
   "cell_type": "code",
   "execution_count": 86,
   "metadata": {},
   "outputs": [
    {
     "name": "stdout",
     "output_type": "stream",
     "text": [
      "count             110527\n",
      "unique                81\n",
      "top       JARDIM CAMBURI\n",
      "freq                7717\n",
      "Name: neighbourhood, dtype: object\n"
     ]
    }
   ],
   "source": [
    "print(df.neighbourhood.describe())\n"
   ]
  },
  {
   "cell_type": "markdown",
   "metadata": {},
   "source": [
    "Observation:   There are 81 different neighborhoods in this dataset \n",
    "\n",
    "\n",
    "### scholarship \n"
   ]
  },
  {
   "cell_type": "code",
   "execution_count": 87,
   "metadata": {},
   "outputs": [
    {
     "data": {
      "text/plain": [
       "0    99666\n",
       "1    10861\n",
       "Name: scholarship, dtype: int64"
      ]
     },
     "execution_count": 87,
     "metadata": {},
     "output_type": "execute_result"
    }
   ],
   "source": [
    "df.scholarship.value_counts()\n"
   ]
  },
  {
   "cell_type": "markdown",
   "metadata": {},
   "source": [
    "Observation: 10861 patients have a scholarship\n",
    "\n",
    "### hypertension\n"
   ]
  },
  {
   "cell_type": "code",
   "execution_count": 88,
   "metadata": {},
   "outputs": [
    {
     "data": {
      "text/plain": [
       "0    88726\n",
       "1    21801\n",
       "Name: hypertension, dtype: int64"
      ]
     },
     "execution_count": 88,
     "metadata": {},
     "output_type": "execute_result"
    }
   ],
   "source": [
    "df.hypertension.value_counts()"
   ]
  },
  {
   "cell_type": "markdown",
   "metadata": {},
   "source": [
    "Observation: 21801 out of 110527 patients are suffering from hypertension\n",
    "\n",
    "### diabetes "
   ]
  },
  {
   "cell_type": "code",
   "execution_count": 89,
   "metadata": {},
   "outputs": [
    {
     "data": {
      "text/plain": [
       "0    102584\n",
       "1      7943\n",
       "Name: diabetes, dtype: int64"
      ]
     },
     "execution_count": 89,
     "metadata": {},
     "output_type": "execute_result"
    }
   ],
   "source": [
    "df.diabetes.value_counts()"
   ]
  },
  {
   "cell_type": "markdown",
   "metadata": {},
   "source": [
    "Observation:  7943 out of 110527 patients suffer from diabetes \n",
    "\n",
    "### alcoholism "
   ]
  },
  {
   "cell_type": "code",
   "execution_count": 90,
   "metadata": {},
   "outputs": [
    {
     "data": {
      "text/plain": [
       "0    107167\n",
       "1      3360\n",
       "Name: alcoholism, dtype: int64"
      ]
     },
     "execution_count": 90,
     "metadata": {},
     "output_type": "execute_result"
    }
   ],
   "source": [
    "df.alcoholism.value_counts()"
   ]
  },
  {
   "cell_type": "markdown",
   "metadata": {},
   "source": [
    "Observation: 3360 out of 110527 patients suffer from alcoholism\n",
    "### handicap"
   ]
  },
  {
   "cell_type": "code",
   "execution_count": 91,
   "metadata": {},
   "outputs": [
    {
     "data": {
      "text/plain": [
       "0    108286\n",
       "1      2042\n",
       "2       183\n",
       "3        13\n",
       "4         3\n",
       "Name: handicap, dtype: int64"
      ]
     },
     "execution_count": 91,
     "metadata": {},
     "output_type": "execute_result"
    }
   ],
   "source": [
    "df.handicap.value_counts()\n"
   ]
  },
  {
   "cell_type": "markdown",
   "metadata": {},
   "source": [
    "Observation: Data entries with values 1 to 4 in the column 'handicap' can be regrouped as '1'  (Will be done in the data cleaning section) \n",
    "\n",
    "\n",
    "### sms_recieved \n"
   ]
  },
  {
   "cell_type": "code",
   "execution_count": 92,
   "metadata": {},
   "outputs": [
    {
     "name": "stdout",
     "output_type": "stream",
     "text": [
      "0    75045\n",
      "1    35482\n",
      "Name: sms_received, dtype: int64\n",
      "count    110527.000000\n",
      "mean          0.321026\n",
      "std           0.466873\n",
      "min           0.000000\n",
      "25%           0.000000\n",
      "50%           0.000000\n",
      "75%           1.000000\n",
      "max           1.000000\n",
      "Name: sms_received, dtype: float64\n"
     ]
    }
   ],
   "source": [
    "\n",
    "print(df.sms_received.value_counts())\n",
    "\n",
    "print(df.sms_received.describe())\n",
    "\n",
    "#df.query('sms_received == 0')['patient_id]'.count()"
   ]
  },
  {
   "cell_type": "markdown",
   "metadata": {},
   "source": [
    "Observation: \n",
    "\n",
    "More than 50 percent of the patients did not recieve an sms notification\n",
    "\n",
    "### Proportions of each feature "
   ]
  },
  {
   "cell_type": "code",
   "execution_count": 93,
   "metadata": {},
   "outputs": [
    {
     "data": {
      "image/png": "[encoded data removed]",
      "text/plain": [
       "<matplotlib.figure.Figure at 0x7fb8a92f5860>"
      ]
     },
     "metadata": {},
     "output_type": "display_data"
    }
   ],
   "source": [
    "# Pie chart for visualizing the feature 'gender'\n",
    "\n",
    "explode = (0.1,0) \n",
    "\n",
    "plt.figure(0)\n",
    "male = df.query('gender == \"M\"')['patient_id'].count()\n",
    "female = df.query('gender == \"F\"')['patient_id'].count()\n",
    "plt.pie([male,female],explode = explode, labels=['Male','Female'], autopct='%1.1f%%',\n",
    "        shadow=True);"
   ]
  },
  {
   "cell_type": "code",
   "execution_count": 94,
   "metadata": {},
   "outputs": [
    {
     "data": {
      "image/png": "[encoded data removed]",
      "text/plain": [
       "<matplotlib.figure.Figure at 0x7fb8acb3e630>"
      ]
     },
     "metadata": {},
     "output_type": "display_data"
    }
   ],
   "source": [
    "#Proportion distribution of the feature 'scholarship'\n",
    "\n",
    "scholarship = df.query('scholarship == 1')['patient_id'].count()\n",
    "no_scholarship = df.query('scholarship == 0')['patient_id'].count()\n",
    "plt.pie([no_scholarship,scholarship],explode = explode, labels=['Patients without scholarship', 'Patients with scholarship'], autopct='%1.1f%%',\n",
    "        shadow=True);\n"
   ]
  },
  {
   "cell_type": "code",
   "execution_count": 95,
   "metadata": {},
   "outputs": [
    {
     "data": {
      "image/png": "[encoded data removed]",
      "text/plain": [
       "<matplotlib.figure.Figure at 0x7fb8acabb518>"
      ]
     },
     "metadata": {},
     "output_type": "display_data"
    }
   ],
   "source": [
    "# Proportion distribution of the feature 'diabetes'\n",
    "\n",
    "diabetes = df.query('diabetes == 1')['patient_id'].count()\n",
    "no_diabetes = df.query('diabetes == 0')['patient_id'].count()\n",
    "plt.pie([no_diabetes, diabetes],explode = explode, labels=['Patients without diabetes', 'Patients with diabetes'], autopct='%1.1f%%',\n",
    "        shadow=True);"
   ]
  },
  {
   "cell_type": "code",
   "execution_count": 96,
   "metadata": {},
   "outputs": [
    {
     "data": {
      "image/png": "[encoded data removed]",
      "text/plain": [
       "<matplotlib.figure.Figure at 0x7fb8a9593be0>"
      ]
     },
     "metadata": {},
     "output_type": "display_data"
    }
   ],
   "source": [
    "#Proportion distribution of the feture 'alcoholism'\n",
    "\n",
    "alcoholism = df.query('alcoholism == 1')['patient_id'].count()\n",
    "no_alcoholism = df.query('alcoholism == 0')['patient_id'].count()\n",
    "plt.pie([no_alcoholism,alcoholism], explode = explode, labels = ['Patients without alcoholism', 'Patients with alocholism'], autopct='%1.1f%%' , shadow = True);\n"
   ]
  },
  {
   "cell_type": "code",
   "execution_count": 97,
   "metadata": {},
   "outputs": [
    {
     "data": {
      "image/png": "[encoded data removed]",
      "text/plain": [
       "<matplotlib.figure.Figure at 0x7fb8a931cef0>"
      ]
     },
     "metadata": {},
     "output_type": "display_data"
    }
   ],
   "source": [
    "#Proportion distribution of the feature 'handicap'\n",
    "handicap = df.query('handicap != 0')['patient_id'].count()\n",
    "not_handicap = df.query('handicap == 0')['patient_id'].count()\n",
    "plt.pie([not_handicap,handicap], explode = explode, labels = ['not handicap','handicap'], autopct = '%1.1f%%', shadow = True);\n"
   ]
  },
  {
   "cell_type": "code",
   "execution_count": 98,
   "metadata": {},
   "outputs": [],
   "source": [
    "df.no_show =  df.no_show.replace({'Yes':1, 'No':0})\n"
   ]
  },
  {
   "cell_type": "code",
   "execution_count": 99,
   "metadata": {},
   "outputs": [
    {
     "data": {
      "image/png": "[encoded data removed]",
      "text/plain": [
       "<matplotlib.figure.Figure at 0x7fb8a94c30b8>"
      ]
     },
     "metadata": {},
     "output_type": "display_data"
    }
   ],
   "source": [
    "#Proportion distribution of the feature no_show\n",
    "\n",
    "no_show = df.query('no_show == 1')['patient_id'].count()\n",
    "showed_up = df.query('no_show == 0')['patient_id'].count()\n",
    "plt.pie([no_show,showed_up], explode = explode, labels = ['Missed the appointment','Did not miss the appointment'], autopct = '%1.1f%%', shadow = True);\n"
   ]
  },
  {
   "cell_type": "markdown",
   "metadata": {},
   "source": [
    "## Data Cleaning "
   ]
  },
  {
   "cell_type": "markdown",
   "metadata": {},
   "source": [
    "#### Data entries with values 1 to 4 in the column 'handicap' can be replaced with '1' "
   ]
  },
  {
   "cell_type": "code",
   "execution_count": 100,
   "metadata": {},
   "outputs": [
    {
     "data": {
      "text/plain": [
       "1"
      ]
     },
     "execution_count": 100,
     "metadata": {},
     "output_type": "execute_result"
    }
   ],
   "source": [
    "df.handicap =  df.handicap.replace({2:1, 3:1, 4:1})\n",
    "\n",
    "#verify \n",
    "df.handicap.max()"
   ]
  },
  {
   "cell_type": "markdown",
   "metadata": {},
   "source": [
    "#### Check if there are any discrepancies in patient's details \n",
    "\n"
   ]
  },
  {
   "cell_type": "code",
   "execution_count": 101,
   "metadata": {},
   "outputs": [],
   "source": [
    "#Prints number of discrepancies in the features corresponding to patient_ids\n",
    "\n",
    "def check_discrepancy(feature, length_of_unique_patiend_id):\n",
    "    temp_df = df[['patient_id', feature]]\n",
    "    duplicates_temp_df = sum(temp_df.duplicated())\n",
    "    print(\"There are \" + str(110527 - (length_of_unique_patiend_id + duplicates_temp_df)) + \" discrepancies in the feature '\" + feature +\"'\")"
   ]
  },
  {
   "cell_type": "code",
   "execution_count": 102,
   "metadata": {},
   "outputs": [
    {
     "name": "stdout",
     "output_type": "stream",
     "text": [
      "There are 0 discrepancies in the feature 'scholarship'\n",
      "\n",
      "\n",
      "There are 0 discrepancies in the feature 'hypertension'\n",
      "\n",
      "\n",
      "There are 0 discrepancies in the feature 'diabetes'\n",
      "\n",
      "\n",
      "There are 0 discrepancies in the feature 'alcoholism'\n",
      "\n",
      "\n",
      "There are 0 discrepancies in the feature 'handicap'\n"
     ]
    }
   ],
   "source": [
    "length_of_unique_patient_id = df.patient_id.nunique()\n",
    "check_discrepancy('scholarship', length_of_unique_patient_id)\n",
    "\n",
    "print(\"\\n\")\n",
    "check_discrepancy('hypertension', length_of_unique_patient_id)\n",
    "\n",
    "print(\"\\n\")\n",
    "check_discrepancy('diabetes', length_of_unique_patient_id)\n",
    "\n",
    "print(\"\\n\")\n",
    "check_discrepancy('alcoholism', length_of_unique_patient_id)\n",
    "\n",
    "print(\"\\n\")\n",
    "check_discrepancy('handicap', length_of_unique_patient_id)\n"
   ]
  },
  {
   "cell_type": "markdown",
   "metadata": {},
   "source": [
    "#### Create a new column for difference between scheduled_day and appointment_day"
   ]
  },
  {
   "cell_type": "code",
   "execution_count": 103,
   "metadata": {},
   "outputs": [],
   "source": [
    "#Returns date part from a datetime object\n",
    "\n",
    "def extract_date(datetime_object):\n",
    "    return datetime_object.date()\n"
   ]
  },
  {
   "cell_type": "code",
   "execution_count": 104,
   "metadata": {},
   "outputs": [
    {
     "data": {
      "text/plain": [
       "count    110527.000000\n",
       "mean         10.183702\n",
       "std          15.254996\n",
       "min          -6.000000\n",
       "25%           0.000000\n",
       "50%           4.000000\n",
       "75%          15.000000\n",
       "max         179.000000\n",
       "Name: days_before_appointment, dtype: float64"
      ]
     },
     "execution_count": 104,
     "metadata": {},
     "output_type": "execute_result"
    }
   ],
   "source": [
    "df['days_before_appointment'] = (df.appointment_day.apply(extract_date)\n",
    "    - df.scheduled_day.apply(extract_date)\n",
    "    )\n",
    "\n",
    "\n",
    "df.days_before_appointment = df.days_before_appointment.astype('timedelta64[D]').astype(int)\n",
    "df.days_before_appointment.describe()"
   ]
  },
  {
   "cell_type": "code",
   "execution_count": 105,
   "metadata": {},
   "outputs": [
    {
     "data": {
      "text/html": [
       "<div>\n",
       "<style scoped>\n",
       "    .dataframe tbody tr th:only-of-type {\n",
       "        vertical-align: middle;\n",
       "    }\n",
       "\n",
       "    .dataframe tbody tr th {\n",
       "        vertical-align: top;\n",
       "    }\n",
       "\n",
       "    .dataframe thead th {\n",
       "        text-align: right;\n",
       "    }\n",
       "</style>\n",
       "<table border=\"1\" class=\"dataframe\">\n",
       "  <thead>\n",
       "    <tr style=\"text-align: right;\">\n",
       "      <th></th>\n",
       "      <th>patient_id</th>\n",
       "      <th>appointment_id</th>\n",
       "      <th>gender</th>\n",
       "      <th>scheduled_day</th>\n",
       "      <th>appointment_day</th>\n",
       "      <th>age</th>\n",
       "      <th>neighbourhood</th>\n",
       "      <th>scholarship</th>\n",
       "      <th>hypertension</th>\n",
       "      <th>diabetes</th>\n",
       "      <th>alcoholism</th>\n",
       "      <th>handicap</th>\n",
       "      <th>sms_received</th>\n",
       "      <th>no_show</th>\n",
       "      <th>days_before_appointment</th>\n",
       "    </tr>\n",
       "  </thead>\n",
       "  <tbody>\n",
       "    <tr>\n",
       "      <th>27033</th>\n",
       "      <td>7839272661752</td>\n",
       "      <td>5679978</td>\n",
       "      <td>M</td>\n",
       "      <td>2016-05-10 10:51:53</td>\n",
       "      <td>2016-05-09</td>\n",
       "      <td>38</td>\n",
       "      <td>RESISTÊNCIA</td>\n",
       "      <td>0</td>\n",
       "      <td>0</td>\n",
       "      <td>0</td>\n",
       "      <td>0</td>\n",
       "      <td>1</td>\n",
       "      <td>0</td>\n",
       "      <td>1</td>\n",
       "      <td>-1</td>\n",
       "    </tr>\n",
       "    <tr>\n",
       "      <th>55226</th>\n",
       "      <td>7896293967868</td>\n",
       "      <td>5715660</td>\n",
       "      <td>F</td>\n",
       "      <td>2016-05-18 14:50:41</td>\n",
       "      <td>2016-05-17</td>\n",
       "      <td>19</td>\n",
       "      <td>SANTO ANTÔNIO</td>\n",
       "      <td>0</td>\n",
       "      <td>0</td>\n",
       "      <td>0</td>\n",
       "      <td>0</td>\n",
       "      <td>1</td>\n",
       "      <td>0</td>\n",
       "      <td>1</td>\n",
       "      <td>-1</td>\n",
       "    </tr>\n",
       "    <tr>\n",
       "      <th>64175</th>\n",
       "      <td>24252258389979</td>\n",
       "      <td>5664962</td>\n",
       "      <td>F</td>\n",
       "      <td>2016-05-05 13:43:58</td>\n",
       "      <td>2016-05-04</td>\n",
       "      <td>22</td>\n",
       "      <td>CONSOLAÇÃO</td>\n",
       "      <td>0</td>\n",
       "      <td>0</td>\n",
       "      <td>0</td>\n",
       "      <td>0</td>\n",
       "      <td>0</td>\n",
       "      <td>0</td>\n",
       "      <td>1</td>\n",
       "      <td>-1</td>\n",
       "    </tr>\n",
       "    <tr>\n",
       "      <th>71533</th>\n",
       "      <td>998231581612122</td>\n",
       "      <td>5686628</td>\n",
       "      <td>F</td>\n",
       "      <td>2016-05-11 13:49:20</td>\n",
       "      <td>2016-05-05</td>\n",
       "      <td>81</td>\n",
       "      <td>SANTO ANTÔNIO</td>\n",
       "      <td>0</td>\n",
       "      <td>0</td>\n",
       "      <td>0</td>\n",
       "      <td>0</td>\n",
       "      <td>0</td>\n",
       "      <td>0</td>\n",
       "      <td>1</td>\n",
       "      <td>-6</td>\n",
       "    </tr>\n",
       "    <tr>\n",
       "      <th>72362</th>\n",
       "      <td>3787481966821</td>\n",
       "      <td>5655637</td>\n",
       "      <td>M</td>\n",
       "      <td>2016-05-04 06:50:57</td>\n",
       "      <td>2016-05-03</td>\n",
       "      <td>7</td>\n",
       "      <td>TABUAZEIRO</td>\n",
       "      <td>0</td>\n",
       "      <td>0</td>\n",
       "      <td>0</td>\n",
       "      <td>0</td>\n",
       "      <td>0</td>\n",
       "      <td>0</td>\n",
       "      <td>1</td>\n",
       "      <td>-1</td>\n",
       "    </tr>\n",
       "  </tbody>\n",
       "</table>\n",
       "</div>"
      ],
      "text/plain": [
       "            patient_id  appointment_id gender       scheduled_day  \\\n",
       "27033    7839272661752         5679978      M 2016-05-10 10:51:53   \n",
       "55226    7896293967868         5715660      F 2016-05-18 14:50:41   \n",
       "64175   24252258389979         5664962      F 2016-05-05 13:43:58   \n",
       "71533  998231581612122         5686628      F 2016-05-11 13:49:20   \n",
       "72362    3787481966821         5655637      M 2016-05-04 06:50:57   \n",
       "\n",
       "      appointment_day  age  neighbourhood  scholarship  hypertension  \\\n",
       "27033      2016-05-09   38    RESISTÊNCIA            0             0   \n",
       "55226      2016-05-17   19  SANTO ANTÔNIO            0             0   \n",
       "64175      2016-05-04   22     CONSOLAÇÃO            0             0   \n",
       "71533      2016-05-05   81  SANTO ANTÔNIO            0             0   \n",
       "72362      2016-05-03    7     TABUAZEIRO            0             0   \n",
       "\n",
       "       diabetes  alcoholism  handicap  sms_received  no_show  \\\n",
       "27033         0           0         1             0        1   \n",
       "55226         0           0         1             0        1   \n",
       "64175         0           0         0             0        1   \n",
       "71533         0           0         0             0        1   \n",
       "72362         0           0         0             0        1   \n",
       "\n",
       "       days_before_appointment  \n",
       "27033                       -1  \n",
       "55226                       -1  \n",
       "64175                       -1  \n",
       "71533                       -6  \n",
       "72362                       -1  "
      ]
     },
     "execution_count": 105,
     "metadata": {},
     "output_type": "execute_result"
    }
   ],
   "source": [
    "df.query('days_before_appointment < 0')"
   ]
  },
  {
   "cell_type": "markdown",
   "metadata": {},
   "source": [
    "#### Observation: \n",
    "\n",
    "There are 5 data entries with negative number of days between schedule_day adnd appointment_day. This means an appointment was booked for a previous date. These are automatic no show entries. I am dropping these rows"
   ]
  },
  {
   "cell_type": "code",
   "execution_count": 106,
   "metadata": {},
   "outputs": [
    {
     "data": {
      "text/plain": [
       "count    110527.000000\n",
       "mean         10.183702\n",
       "std          15.254996\n",
       "min          -6.000000\n",
       "25%           0.000000\n",
       "50%           4.000000\n",
       "75%          15.000000\n",
       "max         179.000000\n",
       "Name: days_before_appointment, dtype: float64"
      ]
     },
     "execution_count": 106,
     "metadata": {},
     "output_type": "execute_result"
    }
   ],
   "source": [
    "df.days_before_appointment.describe()"
   ]
  },
  {
   "cell_type": "code",
   "execution_count": 107,
   "metadata": {},
   "outputs": [
    {
     "data": {
      "text/html": [
       "<div>\n",
       "<style scoped>\n",
       "    .dataframe tbody tr th:only-of-type {\n",
       "        vertical-align: middle;\n",
       "    }\n",
       "\n",
       "    .dataframe tbody tr th {\n",
       "        vertical-align: top;\n",
       "    }\n",
       "\n",
       "    .dataframe thead th {\n",
       "        text-align: right;\n",
       "    }\n",
       "</style>\n",
       "<table border=\"1\" class=\"dataframe\">\n",
       "  <thead>\n",
       "    <tr style=\"text-align: right;\">\n",
       "      <th></th>\n",
       "      <th>patient_id</th>\n",
       "      <th>appointment_id</th>\n",
       "      <th>gender</th>\n",
       "      <th>scheduled_day</th>\n",
       "      <th>appointment_day</th>\n",
       "      <th>age</th>\n",
       "      <th>neighbourhood</th>\n",
       "      <th>scholarship</th>\n",
       "      <th>hypertension</th>\n",
       "      <th>diabetes</th>\n",
       "      <th>alcoholism</th>\n",
       "      <th>handicap</th>\n",
       "      <th>sms_received</th>\n",
       "      <th>no_show</th>\n",
       "      <th>days_before_appointment</th>\n",
       "    </tr>\n",
       "  </thead>\n",
       "  <tbody>\n",
       "  </tbody>\n",
       "</table>\n",
       "</div>"
      ],
      "text/plain": [
       "Empty DataFrame\n",
       "Columns: [patient_id, appointment_id, gender, scheduled_day, appointment_day, age, neighbourhood, scholarship, hypertension, diabetes, alcoholism, handicap, sms_received, no_show, days_before_appointment]\n",
       "Index: []"
      ]
     },
     "execution_count": 107,
     "metadata": {},
     "output_type": "execute_result"
    }
   ],
   "source": [
    "df.drop(df[df.days_before_appointment < 0].index , inplace= True)\n",
    "\n",
    "\n",
    "# verify\n",
    "df.query('days_before_appointment < 0')"
   ]
  },
  {
   "cell_type": "markdown",
   "metadata": {},
   "source": [
    "#### Group days_before_appointment "
   ]
  },
  {
   "cell_type": "code",
   "execution_count": 108,
   "metadata": {},
   "outputs": [
    {
     "data": {
      "text/plain": [
       "same day appointments    38563\n",
       "15 to 179 days           26246\n",
       "4 to 15 days             25748\n",
       "0 to 4 days              19965\n",
       "Name: grouped_days_before_appointment, dtype: int64"
      ]
     },
     "execution_count": 108,
     "metadata": {},
     "output_type": "execute_result"
    }
   ],
   "source": [
    "bin_edges = [-1,0,4,15,179]\n",
    "\n",
    "bin_names = ['same day appointments','0 to 4 days','4 to 15 days','15 to 179 days']\n",
    "\n",
    "df['grouped_days_before_appointment'] = pd.cut(df['days_before_appointment'], bin_edges, labels=bin_names)\n",
    "\n",
    "df.grouped_days_before_appointment.value_counts()"
   ]
  },
  {
   "cell_type": "code",
   "execution_count": 109,
   "metadata": {},
   "outputs": [
    {
     "data": {
      "text/plain": [
       "count                    110522\n",
       "unique                        4\n",
       "top       same day appointments\n",
       "freq                      38563\n",
       "Name: grouped_days_before_appointment, dtype: object"
      ]
     },
     "execution_count": 109,
     "metadata": {},
     "output_type": "execute_result"
    }
   ],
   "source": [
    "df.grouped_days_before_appointment.describe()"
   ]
  },
  {
   "cell_type": "code",
   "execution_count": 110,
   "metadata": {},
   "outputs": [],
   "source": [
    "#Create age groups \n",
    "\n",
    "# Group 0 for age 0 to 10 \n",
    "# group 1 for age 11 to 20 and so on \n",
    "# Age 115 will be group 11\n",
    "df ['age_group'] = df.age.apply(lambda x: min(int(x/10),10))\n"
   ]
  },
  {
   "cell_type": "code",
   "execution_count": 111,
   "metadata": {},
   "outputs": [
    {
     "data": {
      "text/plain": [
       "0     17475\n",
       "1     12935\n",
       "2     13698\n",
       "3     15170\n",
       "4     14209\n",
       "5     15863\n",
       "6     11876\n",
       "7      5934\n",
       "8      2945\n",
       "9       406\n",
       "10       11\n",
       "Name: age_group, dtype: int64"
      ]
     },
     "execution_count": 111,
     "metadata": {},
     "output_type": "execute_result"
    }
   ],
   "source": [
    "age_group_counts = df.age_group.value_counts().sort_index()\n",
    "age_group_counts"
   ]
  },
  {
   "cell_type": "code",
   "execution_count": 113,
   "metadata": {},
   "outputs": [
    {
     "data": {
      "image/png": "[encoded data removed]",
      "text/plain": [
       "<matplotlib.figure.Figure at 0x7fb8ac9961d0>"
      ]
     },
     "metadata": {
      "needs_background": "light"
     },
     "output_type": "display_data"
    }
   ],
   "source": [
    "# Age_count distributions\n",
    "\n",
    "\n",
    "objects = ('0', '1', '2', '3', '4', '5', '6', '7', '8', '9', '10')\n",
    "y_pos = np.arange(len(objects))\n",
    "y_values = age_group_counts\n",
    "\n",
    "\n",
    "plt.bar(y_pos, y_values)\n",
    "plt.xticks(y_pos, objects)\n",
    "plt.ylabel('Proportion')\n",
    "plt.xlabel('Groups')\n",
    "plt.title('distribustion of age_groups');\n",
    " "
   ]
  },
  {
   "cell_type": "markdown",
   "metadata": {},
   "source": [
    "#### Data Wrangling and Data cleaning summary \n",
    "\n",
    "1. Changed the datatype of scheduled_day and appointment_day from string to datetime \n",
    "2. Added new columns days_before_appointmentment, age_groups \n",
    "3. Verified if there any discrepancies in poatient attributes \n",
    "4. Values 2,3,4 in handicap feature was replaced with 1 \n",
    "5. Analyzed and visualized each feature for better understanding of proportions and distributions\n",
    "6. Renamed column names for consistency  "
   ]
  },
  {
   "cell_type": "markdown",
   "metadata": {},
   "source": [
    "<a id='eda'></a>\n",
    "\n",
    "## Exploratory Data Analysis\n"
   ]
  },
  {
   "cell_type": "markdown",
   "metadata": {},
   "source": [
    "In this section I will be focusing on exploring and answering the questions. I will also be focusing on understanding if there are any correlations between different features. "
   ]
  },
  {
   "cell_type": "markdown",
   "metadata": {},
   "source": [
    "### Research question 1: Are specific age groups more consistent in attending their appointments and Which age group among females has the least no_show rate?\n",
    "                            \n",
    "\n",
    "- Dependent variable: no_show\n",
    "- Independent variables: gender, age_group "
   ]
  },
  {
   "cell_type": "code",
   "execution_count": 114,
   "metadata": {},
   "outputs": [],
   "source": [
    "didnt_show_up = df.no_show == 1\n",
    "showed_up = df.no_show == 0"
   ]
  },
  {
   "cell_type": "code",
   "execution_count": 115,
   "metadata": {},
   "outputs": [],
   "source": [
    "no_show_df = df.query('no_show == 1')['age_group']\n",
    "no_show_df = no_show_df.value_counts().sort_index()\n",
    "\n",
    "\n",
    "#Total number of people who missed the appointment\n",
    "total_no_show = df.query('no_show == 1')['patient_id'].count()"
   ]
  },
  {
   "cell_type": "code",
   "execution_count": 116,
   "metadata": {},
   "outputs": [
    {
     "name": "stdout",
     "output_type": "stream",
     "text": [
      "22314\n"
     ]
    }
   ],
   "source": [
    "print(total_no_show)"
   ]
  },
  {
   "cell_type": "code",
   "execution_count": 117,
   "metadata": {},
   "outputs": [
    {
     "data": {
      "text/plain": [
       "0     0.199313\n",
       "1     0.251720\n",
       "2     0.246678\n",
       "3     0.217469\n",
       "4     0.202688\n",
       "5     0.174998\n",
       "6     0.150724\n",
       "7     0.152005\n",
       "8     0.157555\n",
       "9     0.201970\n",
       "10    0.272727\n",
       "Name: age_group, dtype: float64"
      ]
     },
     "execution_count": 117,
     "metadata": {},
     "output_type": "execute_result"
    }
   ],
   "source": [
    "# Patients who did not show up to their appointments, categorized by their age group\n",
    "\n",
    "no_show_proprtion_by_age_group = no_show_df/age_group_counts\n",
    "no_show_proprtion_by_age_group"
   ]
  },
  {
   "cell_type": "code",
   "execution_count": 118,
   "metadata": {},
   "outputs": [
    {
     "data": {
      "image/png": "[encoded data removed]",
      "text/plain": [
       "<matplotlib.figure.Figure at 0x7fb8ac7e46a0>"
      ]
     },
     "metadata": {
      "needs_background": "light"
     },
     "output_type": "display_data"
    }
   ],
   "source": [
    "objects = ('0', '1', '2', '3', '4', '5', '6', '7', '8', '9', '10')\n",
    "y_pos = np.arange(len(objects))\n",
    "y_values = no_show_proprtion_by_age_group\n",
    "\n",
    "\n",
    "plt.bar(y_pos, y_values)\n",
    "plt.xticks(y_pos, objects)\n",
    "plt.ylabel('Proportion')\n",
    "plt.xlabel('Groups')\n",
    "plt.title('Proportion of patients who did not show up for the appointment (grouped by corresponding age_groups)');"
   ]
  },
  {
   "cell_type": "markdown",
   "metadata": {},
   "source": [
    "### no_show_rate grouped by age_group and gender "
   ]
  },
  {
   "cell_type": "code",
   "execution_count": 134,
   "metadata": {},
   "outputs": [
    {
     "data": {
      "image/png": "[encoded data removed]",
      "text/plain": [
       "<matplotlib.figure.Figure at 0x7fb8a02bd908>"
      ]
     },
     "metadata": {
      "needs_background": "light"
     },
     "output_type": "display_data"
    }
   ],
   "source": [
    "df.groupby(['gender','age_group']).no_show.mean().plot(kind = 'bar', title = 'Patients grouped by gender and age_group and their corresponding no_show rate');"
   ]
  },
  {
   "cell_type": "markdown",
   "metadata": {},
   "source": [
    "#### Observation: \n",
    "\n",
    "- Patients from age groups 6, 7 and 8 are less likely to miss an appointment, whereas, patients from age group 1, 2 and 10 are more likely to miss an appointment. Although, in certain age groups (like age group 10), there are very few number of patients to make such a generalized conclusion. \n",
    "\n",
    "- Among females in specific, age_group 8 ( age 81 to 90) exhibits the least no_show rate\n",
    "\n",
    "\n",
    "### Research Question 2:  Are patients who are notified via SMS less likely to miss their appointments? Is there a correlation between days_before_appointment and sms_received? And what is their correlation with no_show?\n",
    "\n",
    "- Dependent variable: no_show\n",
    "- Independent variables: sms_recieved and days_before_appointment"
   ]
  },
  {
   "cell_type": "code",
   "execution_count": 49,
   "metadata": {},
   "outputs": [],
   "source": [
    "#Prints data and plots about patients who received sms \n",
    "\n",
    "def sms_and_no_show(dataframe):\n",
    "    received_sms_didnt_show_up = dataframe.query('sms_received == 1 and no_show == 1')['patient_id'].count()\n",
    "    received_sms_showed_up = dataframe.query('sms_received == 1 and no_show == 0')['patient_id'].count()\n",
    "    total_recieved_sms = dataframe.query('sms_received == 1')['patient_id'].count()\n",
    "    received_sms_didnt_show_up_proportion = received_sms_didnt_show_up/total_recieved_sms\n",
    "    print(\"Proportion of patients who received sms but did not make it to the appointment \" + str(received_sms_didnt_show_up_proportion))\n",
    "\n",
    "    received_sms_showed_up_proportion = received_sms_showed_up/ total_recieved_sms\n",
    "    print(\"Proportion of patients who received sms and made it to the appointment \" + str(received_sms_showed_up_proportion))\n",
    "\n",
    "    print(\"\\n\")\n",
    "    print(\"Total number of patients who received sms notification: \" + str(total_recieved_sms))\n",
    "    \n",
    "    return received_sms_didnt_show_up_proportion, received_sms_showed_up_proportion \n",
    "\n"
   ]
  },
  {
   "cell_type": "code",
   "execution_count": 50,
   "metadata": {},
   "outputs": [
    {
     "name": "stdout",
     "output_type": "stream",
     "text": [
      "Proportion of patients who received sms but did not make it to the appointment 0.275745448396\n",
      "Proportion of patients who received sms and made it to the appointment 0.724254551604\n",
      "\n",
      "\n",
      "Total number of patients who received sms notification: 35482\n"
     ]
    },
    {
     "data": {
      "image/png": "[encoded data removed]",
      "text/plain": [
       "<matplotlib.figure.Figure at 0x7fb8aca3aa20>"
      ]
     },
     "metadata": {},
     "output_type": "display_data"
    }
   ],
   "source": [
    "received_sms_didnt_show_up_proportion_1, received_sms_showed_up_proportion_1 = sms_and_no_show(df)\n",
    "\n",
    "\n",
    "explode = (0, 0.1) \n",
    "\n",
    "plt.pie([received_sms_didnt_show_up_proportion_1, received_sms_showed_up_proportion_1],explode = explode, labels=['Proportion of patients who received sms but did not make it to the appointment', 'Proportion of patients who received sms and made it to the appointment'], autopct='%1.1f%%',\n",
    "        shadow=True); \n",
    "plt.title('Patients who received sms notification', bbox={'facecolor':'0.8', 'pad':5});"
   ]
  },
  {
   "cell_type": "markdown",
   "metadata": {},
   "source": [
    "##### Observation: \n",
    "\n",
    "Among the ones who received sms notifictaion,  72.4 percent made it to the appointment. Since we know that a lot of the patients did no receive sms_notfication at all, we can further fine tune our analysis  "
   ]
  },
  {
   "cell_type": "markdown",
   "metadata": {},
   "source": [
    "### Correlation  between days_before_appointment and sms_recieved\n"
   ]
  },
  {
   "cell_type": "code",
   "execution_count": 51,
   "metadata": {},
   "outputs": [
    {
     "data": {
      "text/plain": [
       "3"
      ]
     },
     "execution_count": 51,
     "metadata": {},
     "output_type": "execute_result"
    }
   ],
   "source": [
    "# After how many days of scheduling the appointment was an sms sent \n",
    "\n",
    "df.query('sms_received == 1')['days_before_appointment'].min()"
   ]
  },
  {
   "cell_type": "markdown",
   "metadata": {},
   "source": [
    "##### Observation: There were no sms sent out for days_before_appointment < 3"
   ]
  },
  {
   "cell_type": "code",
   "execution_count": 52,
   "metadata": {},
   "outputs": [
    {
     "data": {
      "text/plain": [
       "days_before_appointment  sms_received\n",
       "0                        0               38563\n",
       "1                        0                5213\n",
       "2                        0                6725\n",
       "3                        0                1831\n",
       "                         1                 906\n",
       "4                        1                3054\n",
       "                         0                2236\n",
       "5                        1                2054\n",
       "                         0                1223\n",
       "6                        1                2684\n",
       "                         0                1353\n",
       "7                        1                2850\n",
       "                         0                2056\n",
       "8                        1                1440\n",
       "                         0                 892\n",
       "9                        1                 997\n",
       "                         0                 608\n",
       "10                       1                 698\n",
       "                         0                 693\n",
       "11                       0                 505\n",
       "Name: sms_received, dtype: int64"
      ]
     },
     "execution_count": 52,
     "metadata": {},
     "output_type": "execute_result"
    }
   ],
   "source": [
    "# Number of patients receiving sms with respect to their time between scheduled_day and appointment_day\n",
    "\n",
    "df.groupby('days_before_appointment')['sms_received'].value_counts().head(20)\n"
   ]
  },
  {
   "cell_type": "markdown",
   "metadata": {},
   "source": [
    "##### Observation:  We can see that a lot of patients only started receiving sms notification only after (days_before_appointment )>= 4\n",
    "\n",
    "We can now answer our question 2 (correlation between sms_received and no_show) with only (days_after_appointment )>= 4"
   ]
  },
  {
   "cell_type": "code",
   "execution_count": 53,
   "metadata": {},
   "outputs": [
    {
     "data": {
      "text/html": [
       "<div>\n",
       "<style scoped>\n",
       "    .dataframe tbody tr th:only-of-type {\n",
       "        vertical-align: middle;\n",
       "    }\n",
       "\n",
       "    .dataframe tbody tr th {\n",
       "        vertical-align: top;\n",
       "    }\n",
       "\n",
       "    .dataframe thead th {\n",
       "        text-align: right;\n",
       "    }\n",
       "</style>\n",
       "<table border=\"1\" class=\"dataframe\">\n",
       "  <thead>\n",
       "    <tr style=\"text-align: right;\">\n",
       "      <th></th>\n",
       "      <th>patient_id</th>\n",
       "      <th>appointment_id</th>\n",
       "      <th>age</th>\n",
       "      <th>scholarship</th>\n",
       "      <th>hypertension</th>\n",
       "      <th>diabetes</th>\n",
       "      <th>alcoholism</th>\n",
       "      <th>handicap</th>\n",
       "      <th>sms_received</th>\n",
       "      <th>no_show</th>\n",
       "      <th>days_before_appointment</th>\n",
       "      <th>age_group</th>\n",
       "    </tr>\n",
       "  </thead>\n",
       "  <tbody>\n",
       "    <tr>\n",
       "      <th>count</th>\n",
       "      <td>5.728400e+04</td>\n",
       "      <td>5.728400e+04</td>\n",
       "      <td>57284.000000</td>\n",
       "      <td>57284.000000</td>\n",
       "      <td>57284.000000</td>\n",
       "      <td>57284.000000</td>\n",
       "      <td>57284.000000</td>\n",
       "      <td>57284.000000</td>\n",
       "      <td>57284.000000</td>\n",
       "      <td>57284.000000</td>\n",
       "      <td>57284.000000</td>\n",
       "      <td>57284.000000</td>\n",
       "    </tr>\n",
       "    <tr>\n",
       "      <th>mean</th>\n",
       "      <td>1.462743e+14</td>\n",
       "      <td>5.643302e+06</td>\n",
       "      <td>37.471353</td>\n",
       "      <td>0.095768</td>\n",
       "      <td>0.194243</td>\n",
       "      <td>0.066738</td>\n",
       "      <td>0.024597</td>\n",
       "      <td>0.016287</td>\n",
       "      <td>0.603589</td>\n",
       "      <td>0.299612</td>\n",
       "      <td>19.180050</td>\n",
       "      <td>3.313211</td>\n",
       "    </tr>\n",
       "    <tr>\n",
       "      <th>std</th>\n",
       "      <td>2.546720e+14</td>\n",
       "      <td>7.634296e+04</td>\n",
       "      <td>22.800608</td>\n",
       "      <td>0.294276</td>\n",
       "      <td>0.395620</td>\n",
       "      <td>0.249569</td>\n",
       "      <td>0.154894</td>\n",
       "      <td>0.126579</td>\n",
       "      <td>0.489156</td>\n",
       "      <td>0.458092</td>\n",
       "      <td>16.740616</td>\n",
       "      <td>2.269403</td>\n",
       "    </tr>\n",
       "    <tr>\n",
       "      <th>min</th>\n",
       "      <td>5.376150e+05</td>\n",
       "      <td>5.030230e+06</td>\n",
       "      <td>0.000000</td>\n",
       "      <td>0.000000</td>\n",
       "      <td>0.000000</td>\n",
       "      <td>0.000000</td>\n",
       "      <td>0.000000</td>\n",
       "      <td>0.000000</td>\n",
       "      <td>0.000000</td>\n",
       "      <td>0.000000</td>\n",
       "      <td>4.000000</td>\n",
       "      <td>0.000000</td>\n",
       "    </tr>\n",
       "    <tr>\n",
       "      <th>25%</th>\n",
       "      <td>3.994786e+12</td>\n",
       "      <td>5.604408e+06</td>\n",
       "      <td>19.000000</td>\n",
       "      <td>0.000000</td>\n",
       "      <td>0.000000</td>\n",
       "      <td>0.000000</td>\n",
       "      <td>0.000000</td>\n",
       "      <td>0.000000</td>\n",
       "      <td>0.000000</td>\n",
       "      <td>0.000000</td>\n",
       "      <td>7.000000</td>\n",
       "      <td>1.000000</td>\n",
       "    </tr>\n",
       "    <tr>\n",
       "      <th>50%</th>\n",
       "      <td>3.123222e+13</td>\n",
       "      <td>5.648396e+06</td>\n",
       "      <td>37.000000</td>\n",
       "      <td>0.000000</td>\n",
       "      <td>0.000000</td>\n",
       "      <td>0.000000</td>\n",
       "      <td>0.000000</td>\n",
       "      <td>0.000000</td>\n",
       "      <td>1.000000</td>\n",
       "      <td>0.000000</td>\n",
       "      <td>14.000000</td>\n",
       "      <td>3.000000</td>\n",
       "    </tr>\n",
       "    <tr>\n",
       "      <th>75%</th>\n",
       "      <td>9.415477e+13</td>\n",
       "      <td>5.696276e+06</td>\n",
       "      <td>55.000000</td>\n",
       "      <td>0.000000</td>\n",
       "      <td>0.000000</td>\n",
       "      <td>0.000000</td>\n",
       "      <td>0.000000</td>\n",
       "      <td>0.000000</td>\n",
       "      <td>1.000000</td>\n",
       "      <td>1.000000</td>\n",
       "      <td>27.000000</td>\n",
       "      <td>5.000000</td>\n",
       "    </tr>\n",
       "    <tr>\n",
       "      <th>max</th>\n",
       "      <td>9.999320e+14</td>\n",
       "      <td>5.773061e+06</td>\n",
       "      <td>115.000000</td>\n",
       "      <td>1.000000</td>\n",
       "      <td>1.000000</td>\n",
       "      <td>1.000000</td>\n",
       "      <td>1.000000</td>\n",
       "      <td>1.000000</td>\n",
       "      <td>1.000000</td>\n",
       "      <td>1.000000</td>\n",
       "      <td>179.000000</td>\n",
       "      <td>10.000000</td>\n",
       "    </tr>\n",
       "  </tbody>\n",
       "</table>\n",
       "</div>"
      ],
      "text/plain": [
       "         patient_id  appointment_id           age   scholarship  hypertension  \\\n",
       "count  5.728400e+04    5.728400e+04  57284.000000  57284.000000  57284.000000   \n",
       "mean   1.462743e+14    5.643302e+06     37.471353      0.095768      0.194243   \n",
       "std    2.546720e+14    7.634296e+04     22.800608      0.294276      0.395620   \n",
       "min    5.376150e+05    5.030230e+06      0.000000      0.000000      0.000000   \n",
       "25%    3.994786e+12    5.604408e+06     19.000000      0.000000      0.000000   \n",
       "50%    3.123222e+13    5.648396e+06     37.000000      0.000000      0.000000   \n",
       "75%    9.415477e+13    5.696276e+06     55.000000      0.000000      0.000000   \n",
       "max    9.999320e+14    5.773061e+06    115.000000      1.000000      1.000000   \n",
       "\n",
       "           diabetes    alcoholism      handicap  sms_received       no_show  \\\n",
       "count  57284.000000  57284.000000  57284.000000  57284.000000  57284.000000   \n",
       "mean       0.066738      0.024597      0.016287      0.603589      0.299612   \n",
       "std        0.249569      0.154894      0.126579      0.489156      0.458092   \n",
       "min        0.000000      0.000000      0.000000      0.000000      0.000000   \n",
       "25%        0.000000      0.000000      0.000000      0.000000      0.000000   \n",
       "50%        0.000000      0.000000      0.000000      1.000000      0.000000   \n",
       "75%        0.000000      0.000000      0.000000      1.000000      1.000000   \n",
       "max        1.000000      1.000000      1.000000      1.000000      1.000000   \n",
       "\n",
       "       days_before_appointment     age_group  \n",
       "count             57284.000000  57284.000000  \n",
       "mean                 19.180050      3.313211  \n",
       "std                  16.740616      2.269403  \n",
       "min                   4.000000      0.000000  \n",
       "25%                   7.000000      1.000000  \n",
       "50%                  14.000000      3.000000  \n",
       "75%                  27.000000      5.000000  \n",
       "max                 179.000000     10.000000  "
      ]
     },
     "execution_count": 53,
     "metadata": {},
     "output_type": "execute_result"
    }
   ],
   "source": [
    "df_trimmed = df.query('days_before_appointment >=4')\n",
    "df_trimmed.describe()"
   ]
  },
  {
   "cell_type": "code",
   "execution_count": 54,
   "metadata": {},
   "outputs": [
    {
     "name": "stdout",
     "output_type": "stream",
     "text": [
      "Proportion of patients who received sms but did not make it to the appointment 0.277388940305\n",
      "Proportion of patients who received sms and made it to the appointment 0.722611059695\n",
      "\n",
      "\n",
      "Total number of patients who received sms notification: 34576\n"
     ]
    }
   ],
   "source": [
    "received_sms_didnt_show_up_proportion_2, received_sms_showed_up_proportion_2 = sms_and_no_show(df_trimmed)\n"
   ]
  },
  {
   "cell_type": "code",
   "execution_count": 55,
   "metadata": {},
   "outputs": [
    {
     "data": {
      "image/png": "[encoded data removed]",
      "text/plain": [
       "<matplotlib.figure.Figure at 0x7fb8aca75400>"
      ]
     },
     "metadata": {},
     "output_type": "display_data"
    }
   ],
   "source": [
    "explode = (0, 0.1) \n",
    "\n",
    "plt.pie([received_sms_didnt_show_up_proportion_2, received_sms_showed_up_proportion_2],explode = explode, labels=['Proportion of patients who received sms but did not make it to the appointment', 'Proportion of patients who received sms and made it to the appointment'], autopct='%1.1f%%',\n",
    "        shadow=True); \n",
    "plt.title('Patients who received sms notification (days_before_appointment >= 4)', bbox={'facecolor':'0.8', 'pad':5});"
   ]
  },
  {
   "cell_type": "code",
   "execution_count": 56,
   "metadata": {},
   "outputs": [
    {
     "data": {
      "image/png": "[encoded data removed]",
      "text/plain": [
       "<matplotlib.figure.Figure at 0x7fb8aca752e8>"
      ]
     },
     "metadata": {
      "needs_background": "light"
     },
     "output_type": "display_data"
    }
   ],
   "source": [
    "df_trimmed.groupby(['grouped_days_before_appointment','sms_received'])['no_show'].mean().plot(kind = 'bar' , title = 'no_show rate grouped by days_before_appointment and sms_received');"
   ]
  },
  {
   "cell_type": "markdown",
   "metadata": {},
   "source": [
    "#### Observation :\n",
    "\n",
    "- Here, we considered part of the data where the proportion of patients receiving sms notifications are higher. Among the patients who received sms notifications, 72.3 percent made it to the appointment. \n",
    "\n",
    "- As the number of days between scheduled_day and appointment_day increases, the no show_rate seems to be increasing \n",
    "\n",
    "- In general, no_show rate seems to be lower for patients who recieved sms in comparison to those who did not  "
   ]
  },
  {
   "cell_type": "markdown",
   "metadata": {},
   "source": [
    "### Research question 3: Are patients with same day appointments  more likely to attend it. Which age_group has the most number of same_day_appointments? Which age_group has the highest no_show rate among them? \n",
    "\n",
    "- Dependent vaiable : no_show\n",
    "- Independent variables : age_group, days_before_appointment"
   ]
  },
  {
   "cell_type": "code",
   "execution_count": 57,
   "metadata": {},
   "outputs": [
    {
     "name": "stdout",
     "output_type": "stream",
     "text": [
      "38563\n",
      "0.34891695771\n"
     ]
    }
   ],
   "source": [
    "same_day_appointments_count = df.query('grouped_days_before_appointment == \"same day appointments\"')['patient_id'].count()\n",
    "print(same_day_appointments_count)\n",
    "print(same_day_appointments_count / df.shape[0])"
   ]
  },
  {
   "cell_type": "code",
   "execution_count": 58,
   "metadata": {},
   "outputs": [
    {
     "data": {
      "text/plain": [
       "Index(['patient_id', 'appointment_id', 'gender', 'scheduled_day',\n",
       "       'appointment_day', 'age', 'neighbourhood', 'scholarship',\n",
       "       'hypertension', 'diabetes', 'alcoholism', 'handicap', 'sms_received',\n",
       "       'no_show', 'days_before_appointment', 'grouped_days_before_appointment',\n",
       "       'age_group'],\n",
       "      dtype='object')"
      ]
     },
     "execution_count": 58,
     "metadata": {},
     "output_type": "execute_result"
    }
   ],
   "source": [
    "df.columns"
   ]
  },
  {
   "cell_type": "code",
   "execution_count": 59,
   "metadata": {},
   "outputs": [],
   "source": [
    "# 38563 makes upto a 34.9 percent of our dataset \n",
    "df_same_day = df.query('grouped_days_before_appointment == \"same day appointments\"')\n",
    "same_day_appointments_proprtion = df_same_day.groupby('no_show')['patient_id'].count() / same_day_appointments_count\n"
   ]
  },
  {
   "cell_type": "code",
   "execution_count": 60,
   "metadata": {},
   "outputs": [
    {
     "data": {
      "image/png": "[encoded data removed]",
      "text/plain": [
       "<matplotlib.figure.Figure at 0x7fb8acb1f3c8>"
      ]
     },
     "metadata": {},
     "output_type": "display_data"
    }
   ],
   "source": [
    "explode = (0, 0.1) \n",
    "\n",
    "plt.pie([same_day_appointments_proprtion[0], same_day_appointments_proprtion[1]],explode = explode, labels=['Proportion of patients that did not miss the appointment','Proportion of patients that missed the appointment'], autopct='%1.1f%%',\n",
    "        shadow=True); \n",
    "plt.title('Same day appointments', bbox={'facecolor':'0.8', 'pad':5});"
   ]
  },
  {
   "cell_type": "code",
   "execution_count": 61,
   "metadata": {},
   "outputs": [
    {
     "data": {
      "image/png": "[encoded data removed]",
      "text/plain": [
       "<matplotlib.figure.Figure at 0x7fb8acaa4d30>"
      ]
     },
     "metadata": {
      "needs_background": "light"
     },
     "output_type": "display_data"
    }
   ],
   "source": [
    "df_same_day.groupby('age_group')['patient_id'].count().plot(kind = 'bar', title = 'Same day appointments grouped by age_group and their corresponding count');"
   ]
  },
  {
   "cell_type": "code",
   "execution_count": 62,
   "metadata": {},
   "outputs": [
    {
     "data": {
      "image/png": "[encoded data removed]",
      "text/plain": [
       "<matplotlib.figure.Figure at 0x7fb8acaa4390>"
      ]
     },
     "metadata": {
      "needs_background": "light"
     },
     "output_type": "display_data"
    }
   ],
   "source": [
    "df_same_day.groupby('age_group')['no_show'].mean().plot(kind = 'bar', title = 'Same day appointments grouped by age_group and its corresponding no_show mean');"
   ]
  },
  {
   "cell_type": "markdown",
   "metadata": {},
   "source": [
    "#### Observation: \n",
    "- Patients with same day appointments are highly likely to make it to the apointment \n",
    "- Age group 0 seems to be booking most number of same day appointments \n",
    "- Age group 1 has the highest no_show rate among same day appointments"
   ]
  },
  {
   "cell_type": "markdown",
   "metadata": {},
   "source": [
    "### No show rates of patients' attributes"
   ]
  },
  {
   "cell_type": "code",
   "execution_count": 63,
   "metadata": {},
   "outputs": [],
   "source": [
    "# Plots no-show rates in the form of bar charts of feature passed in \n",
    "\n",
    "def bar_plot_no_show_rate(feature, no_show_appointments = 'no_show == 1'):\n",
    "\n",
    "\n",
    "    value_counts = df[feature].value_counts().sort_index()\n",
    "    no_show_count = df.query(no_show_appointments)[feature].value_counts().sort_index()\n",
    "    no_show_proportion = no_show_count/value_counts\n",
    "    print(no_show_proportion)\n",
    "    plt.xlabel( 'no_show proportion')\n",
    "    plt.ylabel(feature)\n",
    "    plt.title( feature + \" no_show_rate\")\n",
    "    plt.yticks(np.arange(len(value_counts)))\n",
    "    plt.barh(value_counts.index, no_show_proportion)"
   ]
  },
  {
   "cell_type": "code",
   "execution_count": 64,
   "metadata": {},
   "outputs": [
    {
     "name": "stdout",
     "output_type": "stream",
     "text": [
      "same day appointments    0.046469\n",
      "0 to 4 days              0.229902\n",
      "4 to 15 days             0.285381\n",
      "15 to 179 days           0.327059\n",
      "Name: grouped_days_before_appointment, dtype: float64\n"
     ]
    },
    {
     "data": {
      "image/png": "[encoded data removed]",
      "text/plain": [
       "<matplotlib.figure.Figure at 0x7fb8a79ff0b8>"
      ]
     },
     "metadata": {
      "needs_background": "light"
     },
     "output_type": "display_data"
    }
   ],
   "source": [
    "bar_plot_no_show_rate(feature= 'grouped_days_before_appointment')"
   ]
  },
  {
   "cell_type": "code",
   "execution_count": 65,
   "metadata": {},
   "outputs": [
    {
     "name": "stdout",
     "output_type": "stream",
     "text": [
      "0    0.198031\n",
      "1    0.237363\n",
      "Name: scholarship, dtype: float64\n"
     ]
    },
    {
     "data": {
      "image/png": "[encoded data removed]",
      "text/plain": [
       "<matplotlib.figure.Figure at 0x7fb8a9535278>"
      ]
     },
     "metadata": {
      "needs_background": "light"
     },
     "output_type": "display_data"
    }
   ],
   "source": [
    "bar_plot_no_show_rate(feature= 'scholarship')"
   ]
  },
  {
   "cell_type": "code",
   "execution_count": 66,
   "metadata": {},
   "outputs": [
    {
     "name": "stdout",
     "output_type": "stream",
     "text": [
      "0    0.201909\n",
      "1    0.201488\n",
      "Name: alcoholism, dtype: float64\n"
     ]
    },
    {
     "data": {
      "image/png": "[encoded data removed]",
      "text/plain": [
       "<matplotlib.figure.Figure at 0x7fb8a94a2668>"
      ]
     },
     "metadata": {
      "needs_background": "light"
     },
     "output_type": "display_data"
    }
   ],
   "source": [
    "bar_plot_no_show_rate(feature= 'alcoholism')"
   ]
  },
  {
   "cell_type": "code",
   "execution_count": 67,
   "metadata": {},
   "outputs": [
    {
     "name": "stdout",
     "output_type": "stream",
     "text": [
      "0    0.202331\n",
      "1    0.180884\n",
      "Name: handicap, dtype: float64\n"
     ]
    },
    {
     "data": {
      "image/png": "[encoded data removed]",
      "text/plain": [
       "<matplotlib.figure.Figure at 0x7fb8acacbf28>"
      ]
     },
     "metadata": {
      "needs_background": "light"
     },
     "output_type": "display_data"
    }
   ],
   "source": [
    "bar_plot_no_show_rate(feature = 'handicap')"
   ]
  },
  {
   "cell_type": "code",
   "execution_count": 68,
   "metadata": {},
   "outputs": [
    {
     "name": "stdout",
     "output_type": "stream",
     "text": [
      "F    0.203113\n",
      "M    0.199638\n",
      "Name: gender, dtype: float64\n"
     ]
    },
    {
     "data": {
      "image/png": "[encoded data removed]",
      "text/plain": [
       "<matplotlib.figure.Figure at 0x7fb8a9430b70>"
      ]
     },
     "metadata": {
      "needs_background": "light"
     },
     "output_type": "display_data"
    }
   ],
   "source": [
    "bar_plot_no_show_rate(feature= 'gender')"
   ]
  },
  {
   "cell_type": "code",
   "execution_count": 69,
   "metadata": {},
   "outputs": [
    {
     "name": "stdout",
     "output_type": "stream",
     "text": [
      "0    0.203589\n",
      "1    0.180033\n",
      "Name: diabetes, dtype: float64\n"
     ]
    },
    {
     "data": {
      "image/png": "[encoded data removed]",
      "text/plain": [
       "<matplotlib.figure.Figure at 0x7fb8a93c8438>"
      ]
     },
     "metadata": {
      "needs_background": "light"
     },
     "output_type": "display_data"
    }
   ],
   "source": [
    "bar_plot_no_show_rate(feature= 'diabetes')"
   ]
  },
  {
   "cell_type": "code",
   "execution_count": 70,
   "metadata": {},
   "outputs": [
    {
     "name": "stdout",
     "output_type": "stream",
     "text": [
      "0    0.208992\n",
      "1    0.173020\n",
      "Name: hypertension, dtype: float64\n"
     ]
    },
    {
     "data": {
      "image/png": "[encoded data removed]",
      "text/plain": [
       "<matplotlib.figure.Figure at 0x7fb8a939e198>"
      ]
     },
     "metadata": {
      "needs_background": "light"
     },
     "output_type": "display_data"
    }
   ],
   "source": [
    "bar_plot_no_show_rate(feature= 'hypertension')"
   ]
  },
  {
   "cell_type": "markdown",
   "metadata": {},
   "source": [
    "#### The above graphs summarize no_show rates of patients by their atrributes. Since a small proportion of patients have attributes like diabetes and hypertension , I decided not to infer any correlations from them\n"
   ]
  },
  {
   "cell_type": "markdown",
   "metadata": {},
   "source": [
    "<a id='conclusions'></a>\n",
    "## Conclusions\n",
    "\n",
    "\n",
    "- We have looked into relationships between age (age_group) and no_show. There are some age_groups that are more consistent in comparison to others. Since there are only a few observations in certain age_group, it is difficult to conclude if age has a strong correlation with no_show\n",
    "\n",
    "- We also grouped patients by age_group and gender and observed the ones with least no_show rate \n",
    "\n",
    "- I explored the relationship between sms_recieved and no_show. It is important to note that not all the patients received sms notifications. Among the ones who did receive them, significant proportion of the patients made it to the appointment. \n",
    "\n",
    "- We also noticed a correlation between days_before_appointment and sms_recieved ( like same day appointments did not recieve sms) \n",
    "\n",
    "- Patients who recieved sms notification, seem to have a lower no_show rate in comparison to those who did not receive sms in the same days_beofre_appointment group \n",
    "\n",
    "- Among the patients with same day appointments, the no_show rate is extremely low \n",
    "\n",
    "- Among same day appointments, patients from age_group 0 seem to have booked most of the appointments and patients from age_group 1 seem to have the highest no_show rate \n",
    "\n",
    "- I also visualized no show rates for patients attributes like diabted, alcoholism and hypertension \n",
    "\n",
    "**Limitations**\n",
    "\n",
    "It is important to note that, the data we have in this dataset is limited to appointments spanned over a few months. A larger dataset would help in a better analysis. The findings of this analysis cannot be used for predicting the very factors that contribute directly to no_show. The correlations between different features could have been explored to a further extent. \n",
    "\n"
   ]
  }
 ],
 "metadata": {
  "kernelspec": {
   "display_name": "Python 3",
   "language": "python",
   "name": "python3"
  },
  "language_info": {
   "codemirror_mode": {
    "name": "ipython",
    "version": 3
   },
   "file_extension": ".py",
   "mimetype": "text/x-python",
   "name": "python",
   "nbconvert_exporter": "python",
   "pygments_lexer": "ipython3",
   "version": "3.7.3"
  }
 },
 "nbformat": 4,
 "nbformat_minor": 2
}
